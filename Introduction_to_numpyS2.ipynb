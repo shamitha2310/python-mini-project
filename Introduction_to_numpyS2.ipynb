{
  "nbformat": 4,
  "nbformat_minor": 0,
  "metadata": {
    "colab": {
      "provenance": [],
      "authorship_tag": "ABX9TyMJ9gXuaHlKRSVXwR+ZjiKo",
      "include_colab_link": true
    },
    "kernelspec": {
      "name": "python3",
      "display_name": "Python 3"
    },
    "language_info": {
      "name": "python"
    }
  },
  "cells": [
    {
      "cell_type": "markdown",
      "metadata": {
        "id": "view-in-github",
        "colab_type": "text"
      },
      "source": [
        "<a href=\"https://colab.research.google.com/github/shamitha2310/python-mini-project/blob/main/Introduction_to_numpyS2.ipynb\" target=\"_parent\"><img src=\"https://colab.research.google.com/assets/colab-badge.svg\" alt=\"Open In Colab\"/></a>"
      ]
    },
    {
      "cell_type": "code",
      "execution_count": 1,
      "metadata": {
        "id": "TZf3mkDO3MOM"
      },
      "outputs": [],
      "source": [
        "import numpy as np"
      ]
    },
    {
      "cell_type": "code",
      "source": [
        "# Recap\n",
        "arr = np.array([[1,2,3,],[4,5,6]])"
      ],
      "metadata": {
        "id": "QXMMF1ks3Vo4"
      },
      "execution_count": 2,
      "outputs": []
    },
    {
      "cell_type": "code",
      "source": [
        "type(arr)"
      ],
      "metadata": {
        "colab": {
          "base_uri": "https://localhost:8080/"
        },
        "id": "aRhMDuOy3tOs",
        "outputId": "e1267a79-93ff-4742-d14b-e76707e46951"
      },
      "execution_count": 3,
      "outputs": [
        {
          "output_type": "execute_result",
          "data": {
            "text/plain": [
              "numpy.ndarray"
            ]
          },
          "metadata": {},
          "execution_count": 3
        }
      ]
    },
    {
      "cell_type": "code",
      "source": [
        "# Dot product - m x n || n x p\n",
        "arr1 = np.random.randint(1,2,(1,2))"
      ],
      "metadata": {
        "id": "vBj47JdF3-0D"
      },
      "execution_count": 24,
      "outputs": []
    },
    {
      "cell_type": "code",
      "source": [
        "arr.shape\n",
        "arr1.shape"
      ],
      "metadata": {
        "colab": {
          "base_uri": "https://localhost:8080/"
        },
        "id": "HHANcRfY4xPZ",
        "outputId": "e79b094e-9ab0-4301-a188-b4bb9fd157bb"
      },
      "execution_count": 25,
      "outputs": [
        {
          "output_type": "execute_result",
          "data": {
            "text/plain": [
              "(1, 2)"
            ]
          },
          "metadata": {},
          "execution_count": 25
        }
      ]
    },
    {
      "cell_type": "code",
      "source": [
        "result = np.dot (arr,arr1)"
      ],
      "metadata": {
        "id": "obuD3AvW5HKD"
      },
      "execution_count": 10,
      "outputs": []
    },
    {
      "cell_type": "code",
      "source": [
        "print(result)"
      ],
      "metadata": {
        "colab": {
          "base_uri": "https://localhost:8080/"
        },
        "id": "E8nAM5g25WWt",
        "outputId": "77b3690f-9aed-408a-ef6b-6a504cbd0724"
      },
      "execution_count": 11,
      "outputs": [
        {
          "output_type": "stream",
          "name": "stdout",
          "text": [
            "[[ 6]\n",
            " [15]]\n"
          ]
        }
      ]
    },
    {
      "cell_type": "code",
      "source": [
        "r1 = np.random.randint(10,20,(3,3))\n",
        "print (r1)"
      ],
      "metadata": {
        "colab": {
          "base_uri": "https://localhost:8080/"
        },
        "id": "qCEowCqd5eOR",
        "outputId": "a5a775e5-a4d1-498c-ddc6-d16bd8ebf049"
      },
      "execution_count": 13,
      "outputs": [
        {
          "output_type": "stream",
          "name": "stdout",
          "text": [
            "[[19 16 13]\n",
            " [11 18 11]\n",
            " [10 13 11]]\n"
          ]
        }
      ]
    },
    {
      "cell_type": "code",
      "source": [
        "r2 = np.eye(3)\n",
        "print (r2)"
      ],
      "metadata": {
        "colab": {
          "base_uri": "https://localhost:8080/"
        },
        "id": "HobktnHc5z49",
        "outputId": "e5194b6e-f365-4ee3-c714-5b4a14f73079"
      },
      "execution_count": 15,
      "outputs": [
        {
          "output_type": "stream",
          "name": "stdout",
          "text": [
            "[[1. 0. 0.]\n",
            " [0. 1. 0.]\n",
            " [0. 0. 1.]]\n"
          ]
        }
      ]
    },
    {
      "cell_type": "code",
      "source": [
        "# r1.I\n",
        "result2 = np.dot(r1,r2)"
      ],
      "metadata": {
        "id": "6CfJegx-6fPK"
      },
      "execution_count": 16,
      "outputs": []
    },
    {
      "cell_type": "code",
      "source": [
        "print(result2)"
      ],
      "metadata": {
        "colab": {
          "base_uri": "https://localhost:8080/"
        },
        "id": "poXcU3eD6vMO",
        "outputId": "ea2dc69b-5393-4af3-bbdf-ced6c6367f15"
      },
      "execution_count": 17,
      "outputs": [
        {
          "output_type": "stream",
          "name": "stdout",
          "text": [
            "[[19. 16. 13.]\n",
            " [11. 18. 11.]\n",
            " [10. 13. 11.]]\n"
          ]
        }
      ]
    },
    {
      "cell_type": "code",
      "source": [
        "# mathematical operations\n",
        "# + - * /\n",
        "t1 = np.random.randint(3,6,(3,3))\n",
        "t2 = np.random.randint(3,6,(3,3))"
      ],
      "metadata": {
        "id": "4Syvruuc61LQ"
      },
      "execution_count": 18,
      "outputs": []
    },
    {
      "cell_type": "code",
      "source": [
        "print(t1)\n",
        "print(t2)"
      ],
      "metadata": {
        "colab": {
          "base_uri": "https://localhost:8080/"
        },
        "id": "WjMlIAMx9XG4",
        "outputId": "3d144c55-3c19-40d4-ad92-bbc700d00d11"
      },
      "execution_count": 19,
      "outputs": [
        {
          "output_type": "stream",
          "name": "stdout",
          "text": [
            "[[3 4 3]\n",
            " [3 3 4]\n",
            " [5 3 5]]\n",
            "[[3 4 5]\n",
            " [4 3 5]\n",
            " [5 4 3]]\n"
          ]
        }
      ]
    },
    {
      "cell_type": "code",
      "source": [
        "t3 = t1*t2\n",
        "print(t3)"
      ],
      "metadata": {
        "colab": {
          "base_uri": "https://localhost:8080/"
        },
        "id": "tF5NuAjP9cct",
        "outputId": "3c48ce72-0b31-47b2-8318-8b5538a9b0bc"
      },
      "execution_count": 21,
      "outputs": [
        {
          "output_type": "stream",
          "name": "stdout",
          "text": [
            "[[ 9 16 15]\n",
            " [12  9 20]\n",
            " [25 12 15]]\n"
          ]
        }
      ]
    },
    {
      "cell_type": "code",
      "source": [
        "# Matrix multiplication\n",
        "result = np.dot(arr1,arr)"
      ],
      "metadata": {
        "id": "hUtTyOIi9pge"
      },
      "execution_count": 26,
      "outputs": []
    },
    {
      "cell_type": "code",
      "source": [
        "# Statistical operations\n",
        "mean = t3.mean()\n",
        "max = t3.max()\n",
        "median=np.median(t3)\n",
        "std = np.std(t3)\n",
        "var = np.var(t3)"
      ],
      "metadata": {
        "id": "QGLk2uul-JNT"
      },
      "execution_count": 33,
      "outputs": []
    },
    {
      "cell_type": "code",
      "source": [
        "print(max)"
      ],
      "metadata": {
        "colab": {
          "base_uri": "https://localhost:8080/"
        },
        "id": "VBmo4WjADHKI",
        "outputId": "e1c0fcbf-f641-4365-c4ff-bad838ea746e"
      },
      "execution_count": 34,
      "outputs": [
        {
          "output_type": "stream",
          "name": "stdout",
          "text": [
            "25\n"
          ]
        }
      ]
    },
    {
      "cell_type": "code",
      "source": [
        "print(median)"
      ],
      "metadata": {
        "colab": {
          "base_uri": "https://localhost:8080/"
        },
        "id": "sdnvkxzfDO5k",
        "outputId": "6f4cca66-dda5-40b4-c213-4a25aa3cb796"
      },
      "execution_count": 35,
      "outputs": [
        {
          "output_type": "stream",
          "name": "stdout",
          "text": [
            "15.0\n"
          ]
        }
      ]
    },
    {
      "cell_type": "code",
      "source": [
        "print(var)"
      ],
      "metadata": {
        "colab": {
          "base_uri": "https://localhost:8080/"
        },
        "id": "UbUtsQzWDXpI",
        "outputId": "5e46b210-1a57-4f85-ee61-b04e4251884b"
      },
      "execution_count": 36,
      "outputs": [
        {
          "output_type": "stream",
          "name": "stdout",
          "text": [
            "23.950617283950617\n"
          ]
        }
      ]
    },
    {
      "cell_type": "code",
      "source": [
        "print(std)"
      ],
      "metadata": {
        "colab": {
          "base_uri": "https://localhost:8080/"
        },
        "id": "y21Y0geDDsID",
        "outputId": "43f91af1-4ce1-4266-9533-8e1c269f65db"
      },
      "execution_count": 37,
      "outputs": [
        {
          "output_type": "stream",
          "name": "stdout",
          "text": [
            "4.893936787898943\n"
          ]
        }
      ]
    },
    {
      "cell_type": "code",
      "source": [
        "std*std"
      ],
      "metadata": {
        "colab": {
          "base_uri": "https://localhost:8080/"
        },
        "id": "0rhJrzeODxjo",
        "outputId": "5164bd1a-6c88-42fc-9951-4a9bb8b247ff"
      },
      "execution_count": 38,
      "outputs": [
        {
          "output_type": "execute_result",
          "data": {
            "text/plain": [
              "23.95061728395062"
            ]
          },
          "metadata": {},
          "execution_count": 38
        }
      ]
    },
    {
      "cell_type": "code",
      "source": [
        "# Trigonometry functions\n",
        "\n",
        "#sin(x)\n",
        "#cos(x)\n",
        "#Tan(x) - sin(x) / cos(x)\n",
        "#cosec - 1 / sin(x)\n",
        "#sec - 1 / cos(x)\n",
        "#cot - /tan(x)\n",
        "#\n",
        "angles = np.array([0,15,30,45,60,75,90])\n",
        "\n",
        "#sin(array)\n",
        "\n",
        "result= np.sin(np.radians(angles))\n",
        "result1 = np.cos(np.radians(angles))\n",
        "result2 = np.tan(np.radians(angles))"
      ],
      "metadata": {
        "id": "KaZXORgF__13"
      },
      "execution_count": 51,
      "outputs": []
    },
    {
      "cell_type": "code",
      "source": [
        "print(result)\n",
        "print(result1)\n",
        "print(result2)"
      ],
      "metadata": {
        "colab": {
          "base_uri": "https://localhost:8080/"
        },
        "id": "eT4V7UADIIDp",
        "outputId": "ffe2987d-9672-41d0-d513-5b57888179de"
      },
      "execution_count": 52,
      "outputs": [
        {
          "output_type": "stream",
          "name": "stdout",
          "text": [
            "[0.         0.25881905 0.5        0.70710678 0.8660254  0.96592583\n",
            " 1.        ]\n",
            "[1.00000000e+00 9.65925826e-01 8.66025404e-01 7.07106781e-01\n",
            " 5.00000000e-01 2.58819045e-01 6.12323400e-17]\n",
            "[0.00000000e+00 2.67949192e-01 5.77350269e-01 1.00000000e+00\n",
            " 1.73205081e+00 3.73205081e+00 1.63312394e+16]\n"
          ]
        }
      ]
    },
    {
      "cell_type": "code",
      "source": [
        "arr = np.array([1,2,3,4,5,6])\n",
        "\n",
        "#reshape the array\n",
        "reshapedarr=arr.reshape(2,3)\n",
        "print(reshapedarr)"
      ],
      "metadata": {
        "colab": {
          "base_uri": "https://localhost:8080/"
        },
        "id": "vfY2Xz_uCK_z",
        "outputId": "f6e736df-0fb1-4ec3-db01-fb4b8cc759c7"
      },
      "execution_count": 53,
      "outputs": [
        {
          "output_type": "stream",
          "name": "stdout",
          "text": [
            "[[1 2 3]\n",
            " [4 5 6]]\n"
          ]
        }
      ]
    },
    {
      "cell_type": "code",
      "source": [
        "#Reshape the array\n",
        "reshapedarr = arr.reshape(3,2)\n",
        "\n",
        "print (reshapedarr)\n",
        "\n",
        "# Convert / Faltten any n dim array\n",
        "flattenedarr = arr.flatten()"
      ],
      "metadata": {
        "colab": {
          "base_uri": "https://localhost:8080/"
        },
        "id": "6iORWRaWJAcD",
        "outputId": "4433ab14-2462-41b5-9e64-7b8e7c0d8bea"
      },
      "execution_count": 54,
      "outputs": [
        {
          "output_type": "stream",
          "name": "stdout",
          "text": [
            "[[1 2]\n",
            " [3 4]\n",
            " [5 6]]\n"
          ]
        }
      ]
    },
    {
      "cell_type": "code",
      "source": [
        "# stacking the data\n",
        "\n",
        "arr1 = np.array([1,2,3,4])\n",
        "arr2 = np.array([10,20,30,40])\n",
        "\n",
        "\n",
        "#Vertical Stacking\n",
        "arr3 = np.vstack([arr1,arr2])\n",
        "print(f\"The shape of arr3 is {arr3.shape}\")\n",
        "\n",
        "#Horizantal stacking\n",
        "arr4 = np.hstack([arr1,arr2])\n",
        "print(f\"The shape of arr4 is {arr4.shape}\")\n",
        "print(arr4)"
      ],
      "metadata": {
        "colab": {
          "base_uri": "https://localhost:8080/"
        },
        "id": "lVFzG1trEx-r",
        "outputId": "e53cc8fa-5f1a-47af-fc17-08a8150b8c84"
      },
      "execution_count": 50,
      "outputs": [
        {
          "output_type": "stream",
          "name": "stdout",
          "text": [
            "The shape of arr3 is (2, 4)\n",
            "The shape of arr4 is (8,)\n",
            "[ 1  2  3  4 10 20 30 40]\n"
          ]
        }
      ]
    },
    {
      "cell_type": "code",
      "source": [
        "#Filtering\n",
        "arr = np.array([10,20,30,40,50,60,70,80])\n",
        "\n",
        "farr = arr[arr >40]\n",
        "print (farr)"
      ],
      "metadata": {
        "colab": {
          "base_uri": "https://localhost:8080/"
        },
        "id": "7p1kdARrJtZF",
        "outputId": "7e712241-f9bf-4a75-9f5c-6ea16f4d81fa"
      },
      "execution_count": 55,
      "outputs": [
        {
          "output_type": "stream",
          "name": "stdout",
          "text": [
            "[50 60 70 80]\n"
          ]
        }
      ]
    }
  ]
}