{
  "nbformat": 4,
  "nbformat_minor": 0,
  "metadata": {
    "colab": {
      "provenance": [],
      "authorship_tag": "ABX9TyOXQ+Boty1lDdOAmt8IZwa1",
      "include_colab_link": true
    },
    "kernelspec": {
      "name": "python3",
      "display_name": "Python 3"
    },
    "language_info": {
      "name": "python"
    }
  },
  "cells": [
    {
      "cell_type": "markdown",
      "metadata": {
        "id": "view-in-github",
        "colab_type": "text"
      },
      "source": [
        "<a href=\"https://colab.research.google.com/github/shamitha2310/python-mini-project/blob/main/Introduction_to_numpy.ipynb\" target=\"_parent\"><img src=\"https://colab.research.google.com/assets/colab-badge.svg\" alt=\"Open In Colab\"/></a>"
      ]
    },
    {
      "cell_type": "code",
      "execution_count": 5,
      "metadata": {
        "id": "6xxhlAYxtut0"
      },
      "outputs": [],
      "source": [
        "# Numpy- Numeric python\n",
        "# Most powerful package - Library\n",
        "\n",
        "# Numpy-Dimensions\n",
        "\n",
        "#A - one Dimensional Array\n",
        "#[A,B] ||[A\n",
        "#         B] - Two Dimensions Array-Row || Column\n",
        "#Three Dimensional\n",
        "#Array-sroting, Manipulating, similar Data type\n",
        "#Faster than any mathematical function\n",
        "#convinient compared to other packages\n",
        "#Memory efficiency\n",
        "#support mutil dimensional Array\n",
        "\n",
        "#speed(Numpy operations) >speed(Lists operations)\n",
        "#size(Numpy operations) < size(lists operations)\n",
        "#Memory optimizeation (Numpy)>Memory operations(lists operations)"
      ]
    },
    {
      "cell_type": "code",
      "source": [
        "#install Numpy - pip3 install numpy // pip install numpy"
      ],
      "metadata": {
        "id": "2GoxmD6NwgTL"
      },
      "execution_count": 6,
      "outputs": []
    },
    {
      "cell_type": "code",
      "source": [
        "import numpy as np"
      ],
      "metadata": {
        "id": "bXnjvO8GxWtf"
      },
      "execution_count": 7,
      "outputs": []
    },
    {
      "cell_type": "code",
      "source": [
        "#create a numpy Array\n",
        "#1D Array\n",
        "\n",
        "arr1D = np.array([1,2,3,4,5])\n",
        "print (arr1D)"
      ],
      "metadata": {
        "colab": {
          "base_uri": "https://localhost:8080/"
        },
        "id": "9HOJef1lxdnk",
        "outputId": "9aae5f85-af05-454d-b9ed-ffd1b2ab5293"
      },
      "execution_count": 8,
      "outputs": [
        {
          "output_type": "stream",
          "name": "stdout",
          "text": [
            "[1 2 3 4 5]\n"
          ]
        }
      ]
    },
    {
      "cell_type": "code",
      "source": [
        "#install numpy - pip3 install numpy // pip install numpy"
      ],
      "metadata": {
        "id": "u2sZfjQfx4lM"
      },
      "execution_count": 9,
      "outputs": []
    },
    {
      "cell_type": "code",
      "source": [
        "import numpy as np"
      ],
      "metadata": {
        "id": "4i-OJlBOzlAE"
      },
      "execution_count": 10,
      "outputs": []
    },
    {
      "cell_type": "code",
      "source": [
        "#creating 2D array\n",
        "# 1D array\n",
        "\n",
        "arr1D =np.array([1,2,3,4,5])\n",
        "print (arr1D)"
      ],
      "metadata": {
        "colab": {
          "base_uri": "https://localhost:8080/"
        },
        "id": "hVYDjnPmzpFM",
        "outputId": "a3afdce9-c2aa-4bd0-c401-2b9f45563049"
      },
      "execution_count": 18,
      "outputs": [
        {
          "output_type": "stream",
          "name": "stdout",
          "text": [
            "[1 2 3 4 5]\n"
          ]
        }
      ]
    },
    {
      "cell_type": "code",
      "source": [
        "#creating 2D array - Matrix\n",
        "arr2D = np.array ([\n",
        "       [1,2,3],[4,5,6]\n",
        "])\n",
        "print(arr2D)"
      ],
      "metadata": {
        "colab": {
          "base_uri": "https://localhost:8080/"
        },
        "id": "RXNSF5Qv36Hk",
        "outputId": "73c18c66-4343-4819-805d-6923bb4a4a9c"
      },
      "execution_count": 19,
      "outputs": [
        {
          "output_type": "stream",
          "name": "stdout",
          "text": [
            "[[1 2 3]\n",
            " [4 5 6]]\n"
          ]
        }
      ]
    },
    {
      "cell_type": "code",
      "source": [
        "# Creating Arrays with default values\n",
        "\n",
        "# Creating matrix with all values of elements as '0'\n",
        "allZeros=np.zeros((2,3))\n",
        "print(allZeros)\n",
        "\n",
        "# Creating matrix with all values of elements as '0'\n",
        "allOnes=np.ones((2,3))\n",
        "print(allOnes)\n",
        "\n",
        "# Creating matrix with all value of elements 'constant value' - n ~ Fill value'\n",
        "allConstant=np.full((2,3),6)\n",
        "print(allConstant)"
      ],
      "metadata": {
        "colab": {
          "base_uri": "https://localhost:8080/"
        },
        "id": "vTY54eS07xsG",
        "outputId": "80d59cbc-0771-42df-a7b6-c7e1d855e357"
      },
      "execution_count": 23,
      "outputs": [
        {
          "output_type": "stream",
          "name": "stdout",
          "text": [
            "[[0. 0. 0.]\n",
            " [0. 0. 0.]]\n",
            "[[1. 1. 1.]\n",
            " [1. 1. 1.]]\n",
            "[[6 6 6]\n",
            " [6 6 6]]\n"
          ]
        }
      ]
    },
    {
      "cell_type": "code",
      "source": [
        "# Create an identity matrix - I - Square matrix\n",
        "\n",
        "identity= np.eye(4)\n",
        "print(identity)\n",
        "\n",
        "# Identity Matrix - Aii = 1 && Aij = 0\n",
        "# For all A Belongs to R MxN\n",
        "# Aij -"
      ],
      "metadata": {
        "colab": {
          "base_uri": "https://localhost:8080/"
        },
        "id": "WCpTy5QC-bkc",
        "outputId": "3b3825a6-cff2-4284-db40-d5de2f99297d"
      },
      "execution_count": 28,
      "outputs": [
        {
          "output_type": "stream",
          "name": "stdout",
          "text": [
            "[[1. 0. 0. 0.]\n",
            " [0. 1. 0. 0.]\n",
            " [0. 0. 1. 0.]\n",
            " [0. 0. 0. 1.]]\n"
          ]
        }
      ]
    },
    {
      "cell_type": "code",
      "source": [
        "# Creating random Matrices\n",
        "\n",
        "# with 0 and 1\n",
        "rand1 = np.random.rand(3,3)\n",
        "print(rand1)\n",
        "\n",
        "# between a and b\n",
        "rand2 = np.random.randint(10,20,(3,3))\n",
        "print(rand2)"
      ],
      "metadata": {
        "colab": {
          "base_uri": "https://localhost:8080/"
        },
        "id": "lQiE25ev-izL",
        "outputId": "7fa912ff-131c-40d8-d3e3-58453969c731"
      },
      "execution_count": 29,
      "outputs": [
        {
          "output_type": "stream",
          "name": "stdout",
          "text": [
            "[[0.65228927 0.48168624 0.94643449]\n",
            " [0.55388539 0.27740221 0.4640843 ]\n",
            " [0.27185999 0.6138551  0.68643695]]\n",
            "[[11 15 17]\n",
            " [19 12 10]\n",
            " [12 14 19]]\n"
          ]
        }
      ]
    },
    {
      "cell_type": "code",
      "source": [
        "#Array ProPerties\n",
        "\n",
        "arr = np.array([[1,2,3,4],[2,3,4,5]])\n",
        "print(arr)\n",
        "#Shape or array\n",
        "print(f'\\nThe shape of the arrays {arr.shape}')\n",
        "#Size of array\n",
        "print(f'\\nThe size of the array is {arr.size}')\n",
        "#Datatype of array\n",
        "print(f'\\nThe Data type of the array is {arr.dtype}')\n",
        "#Dimensions of array\n",
        "print (f'\\nThe Dimensions of the array is {arr.ndim}')"
      ],
      "metadata": {
        "colab": {
          "base_uri": "https://localhost:8080/"
        },
        "id": "zywrIhyL-9eN",
        "outputId": "cbcf2b0c-f57a-43db-9a5e-cb6fc5c5149f"
      },
      "execution_count": 49,
      "outputs": [
        {
          "output_type": "stream",
          "name": "stdout",
          "text": [
            "[[1 2 3 4]\n",
            " [2 3 4 5]]\n",
            "\n",
            "The shape of the arrays (2, 4)\n",
            "\n",
            "The size of the array is 8\n",
            "\n",
            "The Data type of the array is int64\n",
            "\n",
            "The Dimensions of the array is 2\n"
          ]
        }
      ]
    },
    {
      "cell_type": "code",
      "source": [
        "# Indexing and Slicing\n",
        "\n",
        "# Acess the elements in 1D Array\n",
        "\n",
        "arr= np.array([1,2,3,4])\n",
        "print(arr)\n",
        "print(arr[3])\n",
        "\n",
        "#Slicing the elements\n",
        "print(arr[0:3])\n",
        "\n",
        "#Acess the elements in 2D Array\n",
        "arr2 = np.array([[1,2,3],[2,3,4]])\n",
        "print(arr2)\n",
        "print(arr2[1,1])\n",
        "print(arr2[0,:]) #first row with all columns\n",
        "print(arr2[:,0]) #first column with all rows"
      ],
      "metadata": {
        "colab": {
          "base_uri": "https://localhost:8080/"
        },
        "id": "LSxx96HE_JCv",
        "outputId": "11d8f449-9d29-4369-c9f6-92127500c145"
      },
      "execution_count": 32,
      "outputs": [
        {
          "output_type": "stream",
          "name": "stdout",
          "text": [
            "[1 2 3 4]\n",
            "4\n",
            "[1 2 3]\n",
            "[[1 2 3]\n",
            " [2 3 4]]\n",
            "3\n",
            "[1 2 3]\n",
            "[1 2]\n"
          ]
        }
      ]
    },
    {
      "cell_type": "code",
      "source": [
        "#l1 = []\n",
        "#[l1.append(_) for _ in range (10)]\n",
        "\n",
        "l1 = np.arange(10,0,-1)\n",
        "print(l1)"
      ],
      "metadata": {
        "colab": {
          "base_uri": "https://localhost:8080/"
        },
        "id": "Aa7_QwQW_mHU",
        "outputId": "4582c783-8a56-46fe-fa6c-c3fb9b993503"
      },
      "execution_count": 41,
      "outputs": [
        {
          "output_type": "stream",
          "name": "stdout",
          "text": [
            "[10  9  8  7  6  5  4  3  2  1]\n"
          ]
        }
      ]
    },
    {
      "cell_type": "code",
      "source": [
        "#Mathematical operations\n",
        "\n",
        "a = np.array([1,2,3])\n",
        "b = np.array([3,4,5])\n",
        "\n",
        "print(f'The sum of a and b is {a+b}')\n",
        "print(f'The diff of a and b is {a-b}')\n",
        "print(f'The product of a and b is {a*b}')\n",
        "print(f'The division of a and b is {a / b}')"
      ],
      "metadata": {
        "colab": {
          "base_uri": "https://localhost:8080/"
        },
        "id": "V0lCqmG9B4lq",
        "outputId": "aa8c07b5-6274-4960-ce70-2cc3f38ace25"
      },
      "execution_count": 42,
      "outputs": [
        {
          "output_type": "stream",
          "name": "stdout",
          "text": [
            "The sum of a and b is [4 6 8]\n",
            "The diff of a and b is [-2 -2 -2]\n",
            "The product of a and b is [ 3  8 15]\n",
            "The division of a and b is [0.33333333 0.5        0.6       ]\n"
          ]
        }
      ]
    },
    {
      "cell_type": "code",
      "source": [
        "#Matrix Multiplication\n",
        "import numpy as np\n",
        "b1 = np.array([[1,2,3,],[2,3,4]])\n",
        "b2 = np.array([[5,6],[7,8],[1,3]])\n",
        "\n",
        "#Dot product --- product = AB -- A m n x n -- B n x p\n",
        "C = np.dot(b1,b2)\n",
        "print (C)"
      ],
      "metadata": {
        "colab": {
          "base_uri": "https://localhost:8080/"
        },
        "id": "xNMgX1DvDy2d",
        "outputId": "143a1721-de7a-46d0-8c87-d069f1c9cd3b"
      },
      "execution_count": 44,
      "outputs": [
        {
          "output_type": "stream",
          "name": "stdout",
          "text": [
            "[[22 31]\n",
            " [35 48]]\n"
          ]
        }
      ]
    },
    {
      "cell_type": "code",
      "source": [
        "print(b1)"
      ],
      "metadata": {
        "colab": {
          "base_uri": "https://localhost:8080/"
        },
        "id": "s9pWsQUiFZVh",
        "outputId": "971dd3a4-7b04-42c6-e67e-ddf98affa902"
      },
      "execution_count": 46,
      "outputs": [
        {
          "output_type": "stream",
          "name": "stdout",
          "text": [
            "[[1 2 3]\n",
            " [2 3 4]]\n"
          ]
        }
      ]
    },
    {
      "cell_type": "code",
      "source": [
        "print(b2)"
      ],
      "metadata": {
        "colab": {
          "base_uri": "https://localhost:8080/"
        },
        "id": "dRaBk0zzFgW3",
        "outputId": "e9c08f95-4bc1-4457-caab-84e782920e25"
      },
      "execution_count": 47,
      "outputs": [
        {
          "output_type": "stream",
          "name": "stdout",
          "text": [
            "[[5 6]\n",
            " [7 8]\n",
            " [1 3]]\n"
          ]
        }
      ]
    },
    {
      "cell_type": "code",
      "source": [],
      "metadata": {
        "id": "4-V0zqVjIJHY"
      },
      "execution_count": null,
      "outputs": []
    }
  ]
}